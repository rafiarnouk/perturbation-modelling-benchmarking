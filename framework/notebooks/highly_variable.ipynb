{
 "cells": [
  {
   "cell_type": "code",
   "execution_count": 99,
   "id": "24b5d126",
   "metadata": {},
   "outputs": [],
   "source": [
    "import scanpy as sc"
   ]
  },
  {
   "cell_type": "code",
   "execution_count": 100,
   "id": "4929d25f",
   "metadata": {},
   "outputs": [],
   "source": [
    "adata = sc.read(\"../data/adamson.h5ad\")\n",
    "\n",
    "# print(adata.obs[\"UMI count\"].head())\n",
    "# print(adata.var)"
   ]
  },
  {
   "cell_type": "code",
   "execution_count": 101,
   "id": "6e3e29e1",
   "metadata": {},
   "outputs": [
    {
     "data": {
      "text/plain": [
       "AnnData object with n_obs × n_vars = 15006 × 32738\n",
       "    obs: 'perturbation', 'read count', 'UMI count', 'tissue_type', 'cell_line', 'cancer', 'disease', 'perturbation_type', 'celltype', 'organism', 'ncounts', 'ngenes', 'percent_mito', 'percent_ribo', 'nperts'\n",
       "    var: 'ensembl_id', 'ncounts', 'ncells'"
      ]
     },
     "execution_count": 101,
     "metadata": {},
     "output_type": "execute_result"
    }
   ],
   "source": [
    "adata"
   ]
  },
  {
   "cell_type": "code",
   "execution_count": 102,
   "id": "459d01fa",
   "metadata": {},
   "outputs": [],
   "source": [
    "# Feature selection for highly variable genes, feel free to modify parameters\n",
    "\n",
    "sc.pp.filter_cells(adata, min_genes=200)\n",
    "sc.pp.filter_genes(adata, min_cells=3)\n",
    "\n",
    "adata.layers[\"counts\"] = adata.X.copy()\n",
    "sc.pp.normalize_total(adata)\n",
    "sc.pp.log1p(adata)\n",
    "sc.pp.highly_variable_genes(adata, flavor=\"seurat_v3\", n_top_genes=2000, layer=\"counts\")"
   ]
  },
  {
   "cell_type": "code",
   "execution_count": 104,
   "id": "07b12e1e",
   "metadata": {},
   "outputs": [],
   "source": [
    "adata = adata[:,adata.var[\"highly_variable\"]]"
   ]
  },
  {
   "cell_type": "code",
   "execution_count": 107,
   "id": "aca65842",
   "metadata": {},
   "outputs": [
    {
     "data": {
      "text/plain": [
       "AnnData object with n_obs × n_vars = 14697 × 2000\n",
       "    obs: 'perturbation', 'read count', 'UMI count', 'tissue_type', 'cell_line', 'cancer', 'disease', 'perturbation_type', 'celltype', 'organism', 'ncounts', 'ngenes', 'percent_mito', 'percent_ribo', 'nperts', 'n_genes'\n",
       "    var: 'ensembl_id', 'ncounts', 'ncells', 'n_cells', 'highly_variable', 'highly_variable_rank', 'means', 'variances', 'variances_norm'\n",
       "    uns: 'log1p', 'hvg'\n",
       "    layers: 'counts'"
      ]
     },
     "execution_count": 107,
     "metadata": {},
     "output_type": "execute_result"
    }
   ],
   "source": [
    "adata"
   ]
  },
  {
   "cell_type": "code",
   "execution_count": 138,
   "id": "6977ba42",
   "metadata": {},
   "outputs": [
    {
     "data": {
      "text/plain": [
       "['3x_neg_ctrl_pMJ144-1', '3x_neg_ctrl_pMJ144-2', 'ATF6_PERK_IRE1_pMJ158', 'ATF6_PERK_pMJ150', 'ATF6_only_pMJ145', ..., 'ATF4_pBA576', 'SNAI1_pDS266', 'XBP1_pBA579', 'Gal4-4(mod)_pBA582', 'YIPF5_pDS001']\n",
       "Length: 19\n",
       "Categories (19, object): ['3x_neg_ctrl_pMJ144-1', '3x_neg_ctrl_pMJ144-2', 'ATF4_pBA576', 'ATF6_IRE1_pMJ152', ..., 'SNAI1_pDS266', 'XBP1_pBA578', 'XBP1_pBA579', 'YIPF5_pDS001']"
      ]
     },
     "execution_count": 138,
     "metadata": {},
     "output_type": "execute_result"
    }
   ],
   "source": [
    "adata = adata[~adata.obs[\"perturbation\"].isna() & (adata.obs[\"perturbation\"] != \"*\")].copy()\n",
    "adata.obs[\"perturbation\"].unique()"
   ]
  },
  {
   "cell_type": "code",
   "execution_count": 166,
   "id": "d6cbdc4e",
   "metadata": {},
   "outputs": [
    {
     "name": "stdout",
     "output_type": "stream",
     "text": [
      "4 14 1\n",
      "['IRE1_only_pMJ148', 'XBP1_pBA579', 'ATF6_PERK_pMJ150', 'ATF4_pBA576'] ['SNAI1_pDS266', 'PSMD12_pDS009', 'PSMA1_pDS007', 'XBP1_pBA578', 'PERK_IRE1_pMJ154', 'IER3IP1_pDS003', 'Gal4-4(mod)_pBA582', 'ATF6_IRE1_pMJ152', '3x_neg_ctrl_pMJ144-1', 'YIPF5_pDS001', 'ATF6_only_pMJ145', 'C7orf26_pDS004', 'ATF6_PERK_IRE1_pMJ158', 'PERK_only_pMJ146'] ['3x_neg_ctrl_pMJ144-2']\n"
     ]
    }
   ],
   "source": [
    "import importlib\n",
    "import utils\n",
    "importlib.reload(utils)\n",
    "from utils import get_random_split\n",
    "\n",
    "split = {\"train\": 0.7, \"val\": 0.15, \"test\": 0.15}\n",
    "adata_train, adata_val, adata_test = get_random_split(adata, split)"
   ]
  }
 ],
 "metadata": {
  "kernelspec": {
   "display_name": "cpa2",
   "language": "python",
   "name": "python3"
  },
  "language_info": {
   "codemirror_mode": {
    "name": "ipython",
    "version": 3
   },
   "file_extension": ".py",
   "mimetype": "text/x-python",
   "name": "python",
   "nbconvert_exporter": "python",
   "pygments_lexer": "ipython3",
   "version": "3.11.13"
  }
 },
 "nbformat": 4,
 "nbformat_minor": 5
}
