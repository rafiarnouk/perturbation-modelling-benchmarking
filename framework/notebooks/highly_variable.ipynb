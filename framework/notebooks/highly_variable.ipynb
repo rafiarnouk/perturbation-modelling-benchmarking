{
 "cells": [
  {
   "cell_type": "code",
   "execution_count": 59,
   "id": "24b5d126",
   "metadata": {},
   "outputs": [],
   "source": [
    "import scanpy as sc\n",
    "import re"
   ]
  },
  {
   "cell_type": "code",
   "execution_count": 222,
   "id": "4929d25f",
   "metadata": {},
   "outputs": [],
   "source": [
    "adata = sc.read(\"../../data/adamson.h5ad\")\n",
    "\n",
    "# print(adata.obs[\"UMI count\"].head())\n",
    "# print(adata.var)"
   ]
  },
  {
   "cell_type": "code",
   "execution_count": 223,
   "id": "6c24ba17",
   "metadata": {},
   "outputs": [
    {
     "data": {
      "text/plain": [
       "perturbation\n",
       "3x_neg_ctrl_pMJ144-1     1715\n",
       "ATF6_PERK_IRE1_pMJ158    1693\n",
       "ATF6_only_pMJ145         1691\n",
       "IRE1_only_pMJ148         1685\n",
       "3x_neg_ctrl_pMJ144-2     1650\n",
       "PERK_IRE1_pMJ154         1629\n",
       "ATF6_PERK_pMJ150         1603\n",
       "PERK_only_pMJ146         1560\n",
       "ATF6_IRE1_pMJ152         1449\n",
       "*                          13\n",
       "PSMD12_pDS009               6\n",
       "PSMA1_pDS007                4\n",
       "IER3IP1_pDS003              3\n",
       "C7orf26_pDS004              2\n",
       "XBP1_pBA578                 2\n",
       "Gal4-4(mod)_pBA582          1\n",
       "ATF4_pBA576                 1\n",
       "SNAI1_pDS266                1\n",
       "XBP1_pBA579                 1\n",
       "YIPF5_pDS001                1\n",
       "Name: count, dtype: int64"
      ]
     },
     "execution_count": 223,
     "metadata": {},
     "output_type": "execute_result"
    }
   ],
   "source": [
    "adata.obs[\"perturbation\"].value_counts()"
   ]
  },
  {
   "cell_type": "code",
   "execution_count": 62,
   "id": "6e3e29e1",
   "metadata": {},
   "outputs": [
    {
     "data": {
      "text/plain": [
       "AnnData object with n_obs × n_vars = 15006 × 32738\n",
       "    obs: 'perturbation', 'read count', 'UMI count', 'tissue_type', 'cell_line', 'cancer', 'disease', 'perturbation_type', 'celltype', 'organism', 'ncounts', 'ngenes', 'percent_mito', 'percent_ribo', 'nperts'\n",
       "    var: 'ensembl_id', 'ncounts', 'ncells'"
      ]
     },
     "execution_count": 62,
     "metadata": {},
     "output_type": "execute_result"
    }
   ],
   "source": [
    "adata"
   ]
  },
  {
   "cell_type": "code",
   "execution_count": 86,
   "id": "459d01fa",
   "metadata": {},
   "outputs": [],
   "source": [
    "# Feature selection for highly variable genes, feel free to modify parameters\n",
    "\n",
    "sc.pp.filter_cells(adata, min_genes=200)\n",
    "sc.pp.filter_genes(adata, min_cells=3)\n",
    "\n",
    "adata.layers[\"counts\"] = adata.X.copy()\n",
    "sc.pp.normalize_total(adata)\n",
    "sc.pp.log1p(adata)\n",
    "sc.pp.highly_variable_genes(adata, flavor=\"seurat_v3\", n_top_genes=2000, layer=\"counts\")"
   ]
  },
  {
   "cell_type": "code",
   "execution_count": 87,
   "id": "07b12e1e",
   "metadata": {},
   "outputs": [],
   "source": [
    "adata = adata[:,adata.var[\"highly_variable\"]]"
   ]
  },
  {
   "cell_type": "code",
   "execution_count": 65,
   "id": "aca65842",
   "metadata": {},
   "outputs": [
    {
     "data": {
      "text/plain": [
       "View of AnnData object with n_obs × n_vars = 15006 × 2000\n",
       "    obs: 'perturbation', 'read count', 'UMI count', 'tissue_type', 'cell_line', 'cancer', 'disease', 'perturbation_type', 'celltype', 'organism', 'ncounts', 'ngenes', 'percent_mito', 'percent_ribo', 'nperts', 'n_genes'\n",
       "    var: 'ensembl_id', 'ncounts', 'ncells', 'n_cells', 'highly_variable', 'highly_variable_rank', 'means', 'variances', 'variances_norm'\n",
       "    uns: 'log1p', 'hvg'\n",
       "    layers: 'counts'"
      ]
     },
     "execution_count": 65,
     "metadata": {},
     "output_type": "execute_result"
    }
   ],
   "source": [
    "adata"
   ]
  },
  {
   "cell_type": "code",
   "execution_count": 88,
   "id": "6977ba42",
   "metadata": {},
   "outputs": [
    {
     "data": {
      "text/plain": [
       "['3x_neg_ctrl_pMJ144-1', '3x_neg_ctrl_pMJ144-2', 'ATF6_PERK_IRE1_pMJ158', 'ATF6_PERK_pMJ150', 'ATF6_only_pMJ145', ..., 'ATF4_pBA576', 'SNAI1_pDS266', 'XBP1_pBA579', 'Gal4-4(mod)_pBA582', 'YIPF5_pDS001']\n",
       "Length: 19\n",
       "Categories (19, object): ['3x_neg_ctrl_pMJ144-1', '3x_neg_ctrl_pMJ144-2', 'ATF4_pBA576', 'ATF6_IRE1_pMJ152', ..., 'SNAI1_pDS266', 'XBP1_pBA578', 'XBP1_pBA579', 'YIPF5_pDS001']"
      ]
     },
     "execution_count": 88,
     "metadata": {},
     "output_type": "execute_result"
    }
   ],
   "source": [
    "adata = adata[~adata.obs[\"perturbation\"].isna() & (adata.obs[\"perturbation\"] != \"*\")].copy()\n",
    "# adata = adata[~adata.obs[\"perturbation\"].str.contains(r\"ctrl|control\", flags=re.IGNORECASE, na=False)].copy()\n",
    "adata.obs[\"perturbation\"].unique()"
   ]
  },
  {
   "cell_type": "code",
   "execution_count": 224,
   "id": "d6cbdc4e",
   "metadata": {},
   "outputs": [
    {
     "name": "stdout",
     "output_type": "stream",
     "text": [
      "chose PERK_only_pMJ146, so now test_perts_count=1560\n",
      "chose ATF6_PERK_pMJ150, so now test_perts_count=3163\n"
     ]
    }
   ],
   "source": [
    "%run ../utils.py\n",
    "split = {\"train\": 0.7, \"val\": 0.15, \"test\": 0.15}\n",
    "assign_splits_proportional(adata, split)"
   ]
  },
  {
   "cell_type": "code",
   "execution_count": 234,
   "id": "b6440a06",
   "metadata": {},
   "outputs": [
    {
     "name": "stdout",
     "output_type": "stream",
     "text": [
      "split\n",
      "train    9502\n",
      "test     3163\n",
      "val      2341\n",
      "Name: count, dtype: int64\n",
      "perts in train ['3x_neg_ctrl_pMJ144-1', '3x_neg_ctrl_pMJ144-2', 'ATF6_PERK_IRE1_pMJ158', 'ATF6_only_pMJ145', 'PERK_IRE1_pMJ154', 'ATF6_IRE1_pMJ152', 'IRE1_only_pMJ148', '*', nan, 'IER3IP1_pDS003', 'PSMA1_pDS007', 'PSMD12_pDS009', 'C7orf26_pDS004', 'ATF4_pBA576', 'SNAI1_pDS266', 'XBP1_pBA579', 'Gal4-4(mod)_pBA582', 'YIPF5_pDS001']\n",
      "perts in test ['ATF6_PERK_pMJ150', 'PERK_only_pMJ146']\n",
      "perts in val ['ATF6_IRE1_pMJ152', 'ATF6_only_pMJ145', 'ATF6_PERK_IRE1_pMJ158', 'IRE1_only_pMJ148', 'PERK_IRE1_pMJ154', nan, 'XBP1_pBA578', '*', 'PSMA1_pDS007', 'PSMD12_pDS009']\n"
     ]
    }
   ],
   "source": [
    "print(adata.obs[\"split\"].value_counts())\n",
    "print(\"perts in train\", list(adata.obs.loc[adata.obs[\"split\"] == \"train\", \"perturbation\"].unique()))\n",
    "print(\"perts in test\", list(adata.obs.loc[adata.obs[\"split\"] == \"test\", \"perturbation\"].unique()))\n",
    "print(\"perts in val\", list(adata.obs.loc[adata.obs[\"split\"] == \"val\", \"perturbation\"].unique()))"
   ]
  },
  {
   "cell_type": "code",
   "execution_count": 69,
   "id": "df0ae711",
   "metadata": {},
   "outputs": [
    {
     "data": {
      "text/plain": [
       "AnnData object with n_obs × n_vars = 11332 × 2000\n",
       "    obs: 'perturbation', 'read count', 'UMI count', 'tissue_type', 'cell_line', 'cancer', 'disease', 'perturbation_type', 'celltype', 'organism', 'ncounts', 'ngenes', 'percent_mito', 'percent_ribo', 'nperts', 'n_genes', 'split'\n",
       "    var: 'ensembl_id', 'ncounts', 'ncells', 'n_cells', 'highly_variable', 'highly_variable_rank', 'means', 'variances', 'variances_norm'\n",
       "    uns: 'hvg'\n",
       "    layers: 'counts'"
      ]
     },
     "execution_count": 69,
     "metadata": {},
     "output_type": "execute_result"
    }
   ],
   "source": [
    "if \"log1p\" in adata.uns:\n",
    "    del adata.uns[\"log1p\"]\n",
    "adata"
   ]
  },
  {
   "cell_type": "code",
   "execution_count": 99,
   "id": "b3865ca1",
   "metadata": {},
   "outputs": [
    {
     "name": "stdout",
     "output_type": "stream",
     "text": [
      "{'3x_neg_ctrl_pMJ144-1': ['3x', 'neg', 'ctrl'], '3x_neg_ctrl_pMJ144-2': ['3x', 'neg', 'ctrl'], 'ATF6_PERK_IRE1_pMJ158': ['ATF6', 'PERK', 'IRE1'], 'ATF6_PERK_pMJ150': ['ATF6', 'PERK'], 'ATF6_only_pMJ145': ['ATF6'], 'PERK_IRE1_pMJ154': ['PERK', 'IRE1'], 'ATF6_IRE1_pMJ152': ['ATF6', 'IRE1'], 'IRE1_only_pMJ148': ['IRE1'], 'PERK_only_pMJ146': ['PERK'], 'XBP1_pBA578': ['XBP1'], 'IER3IP1_pDS003': ['IER3IP1'], 'PSMA1_pDS007': ['PSMA1'], 'PSMD12_pDS009': ['PSMD12'], 'C7orf26_pDS004': ['C7orf26'], 'ATF4_pBA576': ['ATF4'], 'SNAI1_pDS266': ['SNAI1'], 'XBP1_pBA579': ['XBP1'], 'Gal4-4(mod)_pBA582': ['Gal4-4(mod)'], 'YIPF5_pDS001': ['YIPF5']}\n"
     ]
    }
   ],
   "source": [
    "perts = list(adata.obs[\"perturbation\"].unique())\n",
    "pert_map = {}\n",
    "for pert in perts:\n",
    "    pert_split = [gene for gene in pert.split(\"_\")[:-1] if gene != 'only']\n",
    "    pert_map[pert] = pert_split\n",
    "print(pert_map)"
   ]
  },
  {
   "cell_type": "code",
   "execution_count": 74,
   "id": "17f9fe68",
   "metadata": {},
   "outputs": [
    {
     "data": {
      "text/plain": [
       "perturbation\n",
       "ATF6_PERK_IRE1_pMJ158    1693\n",
       "ATF6_only_pMJ145         1691\n",
       "IRE1_only_pMJ148         1685\n",
       "PERK_IRE1_pMJ154         1629\n",
       "ATF6_PERK_pMJ150         1603\n",
       "PERK_only_pMJ146         1560\n",
       "ATF6_IRE1_pMJ152         1449\n",
       "PSMD12_pDS009               6\n",
       "PSMA1_pDS007                4\n",
       "IER3IP1_pDS003              3\n",
       "XBP1_pBA578                 2\n",
       "C7orf26_pDS004              2\n",
       "XBP1_pBA579                 1\n",
       "ATF4_pBA576                 1\n",
       "SNAI1_pDS266                1\n",
       "Gal4-4(mod)_pBA582          1\n",
       "YIPF5_pDS001                1\n",
       "Name: count, dtype: int64"
      ]
     },
     "execution_count": 74,
     "metadata": {},
     "output_type": "execute_result"
    }
   ],
   "source": [
    "# adata = sc.read(\"../../data/preprocessed/adamson_preprocessed.h5ad\")\n",
    "adata.obs[\"perturbation\"].value_counts()"
   ]
  }
 ],
 "metadata": {
  "kernelspec": {
   "display_name": "cpa2",
   "language": "python",
   "name": "python3"
  },
  "language_info": {
   "codemirror_mode": {
    "name": "ipython",
    "version": 3
   },
   "file_extension": ".py",
   "mimetype": "text/x-python",
   "name": "python",
   "nbconvert_exporter": "python",
   "pygments_lexer": "ipython3",
   "version": "3.11.13"
  }
 },
 "nbformat": 4,
 "nbformat_minor": 5
}
