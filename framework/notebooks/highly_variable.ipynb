{
 "cells": [
  {
   "cell_type": "code",
   "execution_count": 1,
   "id": "24b5d126",
   "metadata": {},
   "outputs": [],
   "source": [
    "import scanpy as sc"
   ]
  },
  {
   "cell_type": "code",
   "execution_count": 2,
   "id": "4929d25f",
   "metadata": {},
   "outputs": [],
   "source": [
    "adata = sc.read(\"../../data/adamson.h5ad\")\n",
    "\n",
    "# print(adata.obs[\"UMI count\"].head())\n",
    "# print(adata.var)"
   ]
  },
  {
   "cell_type": "code",
   "execution_count": 3,
   "id": "6e3e29e1",
   "metadata": {},
   "outputs": [
    {
     "data": {
      "text/plain": [
       "AnnData object with n_obs × n_vars = 15006 × 32738\n",
       "    obs: 'perturbation', 'read count', 'UMI count', 'tissue_type', 'cell_line', 'cancer', 'disease', 'perturbation_type', 'celltype', 'organism', 'ncounts', 'ngenes', 'percent_mito', 'percent_ribo', 'nperts'\n",
       "    var: 'ensembl_id', 'ncounts', 'ncells'"
      ]
     },
     "execution_count": 3,
     "metadata": {},
     "output_type": "execute_result"
    }
   ],
   "source": [
    "adata"
   ]
  },
  {
   "cell_type": "code",
   "execution_count": 4,
   "id": "459d01fa",
   "metadata": {},
   "outputs": [],
   "source": [
    "# Feature selection for highly variable genes, feel free to modify parameters\n",
    "\n",
    "sc.pp.filter_cells(adata, min_genes=200)\n",
    "sc.pp.filter_genes(adata, min_cells=3)\n",
    "\n",
    "adata.layers[\"counts\"] = adata.X.copy()\n",
    "sc.pp.normalize_total(adata)\n",
    "sc.pp.log1p(adata)\n",
    "sc.pp.highly_variable_genes(adata, flavor=\"seurat_v3\", n_top_genes=2000, layer=\"counts\")"
   ]
  },
  {
   "cell_type": "code",
   "execution_count": 5,
   "id": "07b12e1e",
   "metadata": {},
   "outputs": [],
   "source": [
    "adata = adata[:,adata.var[\"highly_variable\"]]"
   ]
  },
  {
   "cell_type": "code",
   "execution_count": 6,
   "id": "aca65842",
   "metadata": {},
   "outputs": [
    {
     "data": {
      "text/plain": [
       "View of AnnData object with n_obs × n_vars = 15006 × 2000\n",
       "    obs: 'perturbation', 'read count', 'UMI count', 'tissue_type', 'cell_line', 'cancer', 'disease', 'perturbation_type', 'celltype', 'organism', 'ncounts', 'ngenes', 'percent_mito', 'percent_ribo', 'nperts', 'n_genes'\n",
       "    var: 'ensembl_id', 'ncounts', 'ncells', 'n_cells', 'highly_variable', 'highly_variable_rank', 'means', 'variances', 'variances_norm'\n",
       "    uns: 'log1p', 'hvg'\n",
       "    layers: 'counts'"
      ]
     },
     "execution_count": 6,
     "metadata": {},
     "output_type": "execute_result"
    }
   ],
   "source": [
    "adata"
   ]
  },
  {
   "cell_type": "code",
   "execution_count": 7,
   "id": "6977ba42",
   "metadata": {},
   "outputs": [
    {
     "data": {
      "text/plain": [
       "['3x_neg_ctrl_pMJ144-1', '3x_neg_ctrl_pMJ144-2', 'ATF6_PERK_IRE1_pMJ158', 'ATF6_PERK_pMJ150', 'ATF6_only_pMJ145', ..., 'ATF4_pBA576', 'SNAI1_pDS266', 'XBP1_pBA579', 'Gal4-4(mod)_pBA582', 'YIPF5_pDS001']\n",
       "Length: 19\n",
       "Categories (19, object): ['3x_neg_ctrl_pMJ144-1', '3x_neg_ctrl_pMJ144-2', 'ATF4_pBA576', 'ATF6_IRE1_pMJ152', ..., 'SNAI1_pDS266', 'XBP1_pBA578', 'XBP1_pBA579', 'YIPF5_pDS001']"
      ]
     },
     "execution_count": 7,
     "metadata": {},
     "output_type": "execute_result"
    }
   ],
   "source": [
    "adata = adata[~adata.obs[\"perturbation\"].isna() & (adata.obs[\"perturbation\"] != \"*\")].copy()\n",
    "adata.obs[\"perturbation\"].unique()"
   ]
  },
  {
   "cell_type": "code",
   "execution_count": 19,
   "id": "cb0ef026",
   "metadata": {},
   "outputs": [],
   "source": [
    "%run ../utils.py"
   ]
  },
  {
   "cell_type": "code",
   "execution_count": 25,
   "id": "d6cbdc4e",
   "metadata": {},
   "outputs": [
    {
     "name": "stdout",
     "output_type": "stream",
     "text": [
      "Splitting 19 perts: perts_train=['PERK_only_pMJ146', 'Gal4-4(mod)_pBA582', 'PSMD12_pDS009', 'IRE1_only_pMJ148', 'SNAI1_pDS266', 'YIPF5_pDS001', 'IER3IP1_pDS003', '3x_neg_ctrl_pMJ144-2', 'PERK_IRE1_pMJ154', 'ATF6_PERK_IRE1_pMJ158', 'ATF6_IRE1_pMJ152', 'XBP1_pBA579', 'ATF6_only_pMJ145'], perts_val=['ATF6_PERK_pMJ150', 'ATF4_pBA576', 'PSMA1_pDS007'], perts_test=['XBP1_pBA578', '3x_neg_ctrl_pMJ144-1', 'C7orf26_pDS004']\n"
     ]
    },
    {
     "data": {
      "text/plain": [
       "split\n",
       "train    11370\n",
       "test      1719\n",
       "val       1608\n",
       "Name: count, dtype: int64"
      ]
     },
     "execution_count": 25,
     "metadata": {},
     "output_type": "execute_result"
    }
   ],
   "source": [
    "split = {\"train\": 0.7, \"val\": 0.15, \"test\": 0.15}\n",
    "assign_splits(adata, split)\n",
    "adata.obs[\"split\"].value_counts()\n"
   ]
  }
 ],
 "metadata": {
  "kernelspec": {
   "display_name": "cpa2",
   "language": "python",
   "name": "python3"
  },
  "language_info": {
   "codemirror_mode": {
    "name": "ipython",
    "version": 3
   },
   "file_extension": ".py",
   "mimetype": "text/x-python",
   "name": "python",
   "nbconvert_exporter": "python",
   "pygments_lexer": "ipython3",
   "version": "3.11.13"
  }
 },
 "nbformat": 4,
 "nbformat_minor": 5
}
