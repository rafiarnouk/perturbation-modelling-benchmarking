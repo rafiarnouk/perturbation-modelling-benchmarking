{
 "cells": [
  {
   "cell_type": "code",
   "execution_count": 5,
   "metadata": {},
   "outputs": [],
   "source": [
    "import scanpy as sc\n",
    "import random"
   ]
  },
  {
   "cell_type": "code",
   "execution_count": 16,
   "metadata": {},
   "outputs": [
    {
     "name": "stdout",
     "output_type": "stream",
     "text": [
      "AnnData object with n_obs × n_vars = 5768 × 35635\n",
      "    obs: 'perturbation', 'read count', 'UMI count', 'tissue_type', 'cell_line', 'cancer', 'disease', 'perturbation_type', 'celltype', 'organism', 'ncounts', 'ngenes', 'percent_mito', 'percent_ribo', 'nperts'\n",
      "    var: 'ensembl_id', 'ncounts', 'ncells'\n"
     ]
    }
   ],
   "source": [
    "adata = sc.read_h5ad(\"../data/adamson.h5ad\")\n",
    "data = adata.obs\n",
    "print(adata)"
   ]
  },
  {
   "cell_type": "code",
   "execution_count": 17,
   "metadata": {},
   "outputs": [],
   "source": [
    "# get rid of rows with asterisk perturbations or no perturbation provided\n",
    "data = data[data[\"perturbation\"] != \"*\"]\n",
    "data = data[data[\"perturbation\"].notna()]"
   ]
  },
  {
   "cell_type": "code",
   "execution_count": 18,
   "metadata": {},
   "outputs": [
    {
     "name": "stdout",
     "output_type": "stream",
     "text": [
      "['SNAI1_pDS266', 'BHLHE40_pDS258', '62(mod)_pBA581', 'CREB1_pDS269'] ['ZNF326_pDS262', 'EP300_pDS268'] ['SPI1_pDS255', 'DDIT3_pDS263']\n"
     ]
    }
   ],
   "source": [
    "# randomly select perts for train/val/test\n",
    "n_perts_train = 4\n",
    "n_perts_val = 2\n",
    "n_perts_test = 2\n",
    "perts = list(data[\"perturbation\"].unique())\n",
    "random.shuffle(perts)\n",
    "perts_train = perts[:n_perts_train]\n",
    "perts_val = perts[n_perts_train:n_perts_train + n_perts_val]\n",
    "perts_test = perts[n_perts_train + n_perts_val:n_perts_train + n_perts_val + n_perts_test]\n",
    "\n",
    "print(perts_train, perts_val, perts_test)"
   ]
  },
  {
   "cell_type": "code",
   "execution_count": 20,
   "metadata": {},
   "outputs": [
    {
     "name": "stdout",
     "output_type": "stream",
     "text": [
      "50850 17835 17595\n"
     ]
    }
   ],
   "source": [
    "# get splits\n",
    "data_train = data[data[\"perturbation\"].isin(perts_train)]\n",
    "data_val = data[data[\"perturbation\"].isin(perts_val)]\n",
    "data_test = data[data[\"perturbation\"].isin(perts_test)]\n",
    "\n",
    "print(data_train.size, data_val.size, data_test.size)"
   ]
  }
 ],
 "metadata": {
  "kernelspec": {
   "display_name": "base",
   "language": "python",
   "name": "python3"
  },
  "language_info": {
   "codemirror_mode": {
    "name": "ipython",
    "version": 3
   },
   "file_extension": ".py",
   "mimetype": "text/x-python",
   "name": "python",
   "nbconvert_exporter": "python",
   "pygments_lexer": "ipython3",
   "version": "3.11.4"
  },
  "orig_nbformat": 4
 },
 "nbformat": 4,
 "nbformat_minor": 2
}
