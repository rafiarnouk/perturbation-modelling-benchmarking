{
 "cells": [
  {
   "cell_type": "code",
   "execution_count": 4,
   "metadata": {},
   "outputs": [],
   "source": [
    "import scanpy as sc\n",
    "import random"
   ]
  },
  {
   "cell_type": "code",
   "execution_count": 134,
   "metadata": {},
   "outputs": [],
   "source": [
    "adata = sc.read_h5ad(\"data/adamson.h5ad\")\n",
    "data = adata.obs"
   ]
  },
  {
   "cell_type": "code",
   "execution_count": 135,
   "metadata": {},
   "outputs": [],
   "source": [
    "# get rid of rows with asterisk perturbations or no perturbation provided\n",
    "data = data[data[\"perturbation\"] != \"*\"]\n",
    "data = data[data[\"perturbation\"].notna()]"
   ]
  },
  {
   "cell_type": "code",
   "execution_count": 154,
   "metadata": {},
   "outputs": [
    {
     "name": "stdout",
     "output_type": "stream",
     "text": [
      "['BHLHE40_pDS258', 'SNAI1_pDS266', '62(mod)_pBA581', 'SPI1_pDS255'] ['DDIT3_pDS263', 'ZNF326_pDS262'] ['CREB1_pDS269', 'EP300_pDS268']\n"
     ]
    }
   ],
   "source": [
    "# randomly select perts for train/val/test\n",
    "n_perts_train = 4\n",
    "n_perts_val = 2\n",
    "n_perts_test = 2\n",
    "perts = list(data[\"perturbation\"].unique())\n",
    "random.shuffle(perts)\n",
    "perts_train = perts[:n_perts_train]\n",
    "perts_val = perts[n_perts_train:n_perts_train + n_perts_val]\n",
    "perts_test = perts[n_perts_train + n_perts_val:n_perts_train + n_perts_val + n_perts_test]\n",
    "\n",
    "print(perts_train, perts_val, perts_test)"
   ]
  },
  {
   "cell_type": "code",
   "execution_count": 153,
   "metadata": {},
   "outputs": [
    {
     "name": "stdout",
     "output_type": "stream",
     "text": [
      "32520 18870 34890\n"
     ]
    }
   ],
   "source": [
    "# get splits\n",
    "data_train = data[data[\"perturbation\"].isin(perts_train)]\n",
    "data_val = data[data[\"perturbation\"].isin(perts_val)]\n",
    "data_test = data[data[\"perturbation\"].isin(perts_test)]\n",
    "\n",
    "print(data_train.size, data_val.size, data_test.size)"
   ]
  }
 ],
 "metadata": {
  "kernelspec": {
   "display_name": "base",
   "language": "python",
   "name": "python3"
  },
  "language_info": {
   "codemirror_mode": {
    "name": "ipython",
    "version": 3
   },
   "file_extension": ".py",
   "mimetype": "text/x-python",
   "name": "python",
   "nbconvert_exporter": "python",
   "pygments_lexer": "ipython3",
   "version": "3.11.4"
  },
  "orig_nbformat": 4
 },
 "nbformat": 4,
 "nbformat_minor": 2
}
