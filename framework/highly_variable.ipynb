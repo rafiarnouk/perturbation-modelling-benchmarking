{
 "cells": [
  {
   "cell_type": "code",
   "execution_count": 1,
   "id": "24b5d126",
   "metadata": {},
   "outputs": [],
   "source": [
    "import scanpy as sc "
   ]
  },
  {
   "cell_type": "code",
   "execution_count": 12,
   "id": "4929d25f",
   "metadata": {},
   "outputs": [
    {
     "name": "stdout",
     "output_type": "stream",
     "text": [
      "cell_barcode\n",
      "AAACATACACCGAT     98.0\n",
      "AAACATACAGAGAT     19.0\n",
      "AAACATACCAGAAA    162.0\n",
      "AAACATACGTTGAC     98.0\n",
      "AAACATACTGTTCT     51.0\n",
      "Name: UMI count, dtype: float64\n",
      "                   ensembl_id  ncounts  ncells\n",
      "gene_symbol                                   \n",
      "MIR1302-10    ENSG00000243485      0.0       0\n",
      "FAM138A       ENSG00000237613      0.0       0\n",
      "OR4F5         ENSG00000186092      0.0       0\n",
      "RP11-34P13.7  ENSG00000238009      0.0       0\n",
      "RP11-34P13.8  ENSG00000239945      1.0       1\n",
      "...                       ...      ...     ...\n",
      "MT-ND4L       ENSG00000212907      0.0       0\n",
      "MT-ND4        ENSG00000198886      0.0       0\n",
      "MT-ND5        ENSG00000198786      0.0       0\n",
      "MT-ND6        ENSG00000198695      0.0       0\n",
      "MT-CYB        ENSG00000198727      0.0       0\n",
      "\n",
      "[35635 rows x 3 columns]\n"
     ]
    }
   ],
   "source": [
    "adata = sc.read(\"../data/adamson.h5ad\")\n",
    "\n",
    "print(adata.obs[\"UMI count\"].head())\n",
    "print(adata.var)"
   ]
  },
  {
   "cell_type": "code",
   "execution_count": null,
   "id": "459d01fa",
   "metadata": {},
   "outputs": [],
   "source": [
    "# Feature selection for highly variable genes, feel free to modify parameters\n",
    "\n",
    "sc.pp.filter_cells(adata, min_genes=200)\n",
    "sc.pp.filter_genes(adata, min_cells=3)\n",
    "\n",
    "adata.layers[\"counts\"] = adata.X.copy()\n",
    "\n",
    "sc.pp.normalize_total(adata)\n",
    "sc.pp.log1p(adata)\n",
    "sc.pp.highly_variable_genes(adata, flavor=\"seurat_v3\", n_top_genes=2000, layer=\"counts\")"
   ]
  },
  {
   "cell_type": "code",
   "execution_count": null,
   "id": "c0aa3d79",
   "metadata": {},
   "outputs": [],
   "source": []
  }
 ],
 "metadata": {
  "kernelspec": {
   "display_name": "cpa2",
   "language": "python",
   "name": "python3"
  },
  "language_info": {
   "codemirror_mode": {
    "name": "ipython",
    "version": 3
   },
   "file_extension": ".py",
   "mimetype": "text/x-python",
   "name": "python",
   "nbconvert_exporter": "python",
   "pygments_lexer": "ipython3",
   "version": "3.9.23"
  }
 },
 "nbformat": 4,
 "nbformat_minor": 5
}
